{
  "cells": [
    {
      "cell_type": "markdown",
      "metadata": {
        "id": "4LiqVxTB8Aal"
      },
      "source": [
        "# [写在前面] 背景\n",
        "\n",
        "现在云端很容易获得高效廉价的算力和资源，但是通常只能用在特定工作模式下，很不方便，包括但不限于:\n",
        "1. [google] Colab\n",
        "2. [google] IDX\n",
        "3. many more?\n",
        "\n",
        "# [写在前面] 未来事宜:\n",
        "\n",
        "1. 调通: rustdesk seemless 模式启动 x-server，目测效果有限，因为手动需要定制的很多，自动模式功能有限?\n",
        "2. 修复: 声音支持，原来可以，后来不知道哪里改的又不行了？\n",
        "3. 优化X启动: 目测调用/etc/X11/Xsession是一个更好的做法？避免自己管理一堆上下文？\n",
        "   /etc/X11/Xsession会自动处理dbus等一系列问题？ 通过dbus-x11增加进入/etc/X11/Xsession.d的文件可知\n",
        "4. rustdesk调试方案-log: https://rust-lang-nursery.github.io/rust-cookbook/development_tools/debugging/config_log.html\n",
        "5. 上游优化和联调: seemless不工作的的问题，也许后续会修?https://www.reddit.com/r/rustdesk/comments/1cuum90/i_cant_seem_to_make_rustdesk_service_work_on_linux/\n",
        "6. 支持 SD： oobabooga/text-generation-webui\n",
        "   Project page: https://github.com/oobabooga/text-generation-webui\n",
        "7. 支持Gnome桌面环境联调: 使用elogind，以支持在容器里面(非systemd环境)运行gnome\n",
        "    icewm还是太简单，gnome最强大和完善\n",
        "    xfce(任务栏无法显示)=>icewm(太简单)=>gnome(最强大)\n",
        "    技术参考: https://chatgpt.com/share/a7f1c5c9-1907-4580-b84e-d5d1d8717d51\n",
        "8. Rootless docker\n",
        "   Colab基于 ubuntu 镜像, 不支持elogind，所以需要内嵌docker来执行?\n",
        "8. 优化输入法: fcitx vs fcitx5 vs ibus\n",
        "9. 优化DPI显示优化: 提高DPI或者降低分辨率"
      ]
    },
    {
      "cell_type": "markdown",
      "metadata": {},
      "source": [
        "# [写在前面] 记事本保活\n",
        "\n",
        "避免被系统中断和清理"
      ]
    },
    {
      "cell_type": "code",
      "execution_count": null,
      "metadata": {
        "id": "f7TVVj_z4flw"
      },
      "outputs": [],
      "source": [
        "# @title 1. 记事本保活 { display-mode: \"form\" }\n",
        "\n",
        "# @markdown 第一步: 播放音乐，使得页面看起来永远活动\n",
        "%%html\n",
        "<audio src=\"https://oobabooga.github.io/silence.m4a\" controls>"
      ]
    },
    {
      "cell_type": "markdown",
      "metadata": {
        "id": "_350BTgWW7p9"
      },
      "source": [
        "# [主要步骤] 软件和环境准备\n",
        "\n",
        "TBD: 为什么需要dbus-x11/dbus-lanunch之类的软件和技术，因为现代软件普遍依赖dbus机制来通讯，比如说ibus的设置和协调；必要时可以通过从命令行运行程序来检查报错，一半可以看到dbus相关错误"
      ]
    },
    {
      "cell_type": "markdown",
      "metadata": {},
      "source": [
        "## 1. 安装操作系统部件"
      ]
    },
    {
      "cell_type": "code",
      "execution_count": null,
      "metadata": {
        "id": "rWWfJ88yNcDB"
      },
      "outputs": [],
      "source": [
        "%%bash\n",
        "{\n",
        "nproc\n",
        "yes|unminimize\n",
        "apt update\n",
        "apt install sudo htop aptitude jq apt-file vim xzip screen x11-apps \\\n",
        "xserver-xorg-video-dummy  aptitude sudo mc xterm fuse xdotool \\\n",
        "python3-xdo libxdo-dev xdotool x11-utils mesa-utils btop icewm mc dbus-x11 uuid fonts-noto fonts-noto-cjk \\\n",
        "bash-completion pulseaudio-utils x11-xserver-utils pavucontrol gnome-terminal nautilus-extension-gnome-terminal -y\n",
        "} &> /dev/null"
      ]
    },
    {
      "cell_type": "markdown",
      "metadata": {},
      "source": [
        "## 2. 安装chrome\n"
      ]
    },
    {
      "cell_type": "code",
      "execution_count": null,
      "metadata": {},
      "outputs": [],
      "source": [
        "%%bash\n",
        "bash <<'EOF'\n",
        "{\n",
        "  wget -c https://dl.google.com/linux/direct/google-chrome-stable_current_amd64.deb\n",
        "   sudo dpkg -i google-chrome-stable_current_amd64.deb\n",
        "   sudo apt-get install -f\n",
        "} &> /dev/null\n",
        "EOF"
      ]
    },
    {
      "cell_type": "markdown",
      "metadata": {
        "id": "-63SzCjRWt2o"
      },
      "source": [
        "## 3. 安装LM Studio & Rustdesk & Others"
      ]
    },
    {
      "cell_type": "code",
      "execution_count": null,
      "metadata": {
        "id": "x11lFwo3WrOm"
      },
      "outputs": [],
      "source": [
        "%%bash\n",
        "{\n",
        "  rm rustdesk*.deb || :\n",
        "  latest_rustdesk=$(curl -s https://api.github.com/repos/rustdesk/rustdesk/releases/latest | jq -r \".tag_name\")\n",
        "  # wget -c $(curl -s https://api.github.com/repos/rustdesk/rustdesk/releases | grep -oP 'https://github.com/rustdesk/rustdesk/releases/download/nightly/rustdesk.*x86_64.deb') &> /dev/null \\\n",
        "  #   echo \"rust desk download failed!\"\n",
        "\n",
        "  wget -c https://github.com/rustdesk/rustdesk/releases/download/${latest_rustdesk}/rustdesk-${latest_rustdesk}-x86_64.deb\n",
        "\n",
        "  latest_jan=$(curl -s https://api.github.com/repos/janhq/jan/releases/latest | jq -r \".tag_name\")\n",
        "  wget -c https://github.com/janhq/jan/releases/download/v${latest_jan}/jan-linux-x86_64-${latest_jan}.AppImage  \\\n",
        "    &> /dev/null || echo \"janhq download failed!\"\n",
        "\n",
        "  wget -c https://releases.lmstudio.ai/linux/x86/0.2.26/beta/LM_Studio-0.2.26.AppImage \\\n",
        "    &> /dev/null || echo \"lmstudio download failed!\"\n",
        "\n",
        "  dpkg -i rustdesk-*.deb\n",
        "  apt --fix-broken install -y\n",
        "\n",
        "  chmod +x *.AppImage\n",
        "} &> /dev/null"
      ]
    },
    {
      "cell_type": "markdown",
      "metadata": {
        "id": "maVZZXKt0kjN"
      },
      "source": [
        "## 4. 中文支持(需要？)"
      ]
    },
    {
      "cell_type": "code",
      "execution_count": null,
      "metadata": {
        "id": "xSrTsJKVlzO7"
      },
      "outputs": [],
      "source": [
        "%%bash\n",
        "bash <<'EOF'\n",
        "{\n",
        "    sudo apt install ibus ibus-pinyin language-pack-zh-hans -y\n",
        "    # Add environment variables to ~/.bashrc or ~/.xprofile\n",
        "    echo 'export GTK_IM_MODULE=ibus' >> ~/.bashrc\n",
        "    echo 'export QT_IM_MODULE=ibus' >> ~/.bashrc\n",
        "    echo 'export XMODIFIERS=@im=ibus' >> ~/.bashrc\n",
        "    echo 'ibus-daemon -d -x' >> ~/.bashrc\n",
        "} &> /dev/null\n",
        "EOF"
      ]
    },
    {
      "cell_type": "markdown",
      "metadata": {
        "id": "J8kRCvr2mOqc"
      },
      "source": [
        "### 设置输入法(只需一次)"
      ]
    },
    {
      "cell_type": "code",
      "execution_count": null,
      "metadata": {
        "id": "a9gzImE3mI13"
      },
      "outputs": [],
      "source": [
        "%%bash\n",
        "#ibus-setup  # 手动配置输入法,要在UI里面\n",
        "#ibus restart"
      ]
    },
    {
      "cell_type": "markdown",
      "metadata": {
        "id": "SbAxcMe4X7Fc"
      },
      "source": [
        "## 5. 启用cloudflare通道 tunnel(可选)"
      ]
    },
    {
      "cell_type": "code",
      "execution_count": null,
      "metadata": {
        "id": "TNWpgUMza2E8"
      },
      "outputs": [],
      "source": [
        "%%bash\n",
        "echo \"Use your own key and commit 'exit 0'\"\n",
        "exit 0\n",
        "your_key=xxx\n",
        "{\n",
        "    curl -L --output cloudflared.deb https://github.com/cloudflare/cloudflared/releases/latest/download/cloudflared-linux-amd64.deb &&\n",
        "\n",
        "    sudo dpkg -i cloudflared.deb &&\n",
        "\n",
        "    sudo cloudflared service install $your_key\n",
        "} &> /dev/null\n"
      ]
    },
    {
      "cell_type": "markdown",
      "metadata": {
        "id": "i1EL5s1qZHFD"
      },
      "source": [
        "## 6. 准备X Window相关资源和脚本\n",
        "\n",
        "**Tips:** \n",
        "1. Use **cvt your_width your_height** to get modeline response to your screen\n",
        "2. Add new modeline for your screen\n",
        "3. Change Modes to your screen modeline name"
      ]
    },
    {
      "cell_type": "code",
      "execution_count": null,
      "metadata": {
        "id": "_a3HpGY55oTu"
      },
      "outputs": [],
      "source": [
        "%%writefile xorg-wip.conf\n",
        "\n",
        "# This xorg configuration file is meant to be used by xpra\n",
        "# to start a dummy X11 server.\n",
        "# For details, please see:\n",
        "# https://xpra.org/Xdummy.html\n",
        "\n",
        "Section \"ServerFlags\"\n",
        "  Option \"DontVTSwitch\" \"true\"\n",
        "  Option \"AllowMouseOpenFail\" \"true\"\n",
        "  Option \"PciForceNone\" \"true\"\n",
        "  Option \"AutoEnableDevices\" \"false\"\n",
        "  Option \"AutoAddDevices\" \"false\"\n",
        "EndSection\n",
        "\n",
        "Section \"InputDevice\"\n",
        "  Identifier \"dummy_mouse\"\n",
        "  Option \"CorePointer\" \"true\"\n",
        "  Driver \"void\"\n",
        "EndSection\n",
        "\n",
        "Section \"InputDevice\"\n",
        "  Identifier \"dummy_keyboard\"\n",
        "  Option \"CoreKeyboard\" \"true\"\n",
        "  Driver \"void\"\n",
        "EndSection\n",
        "\n",
        "Section \"Device\"\n",
        "  Identifier \"dummy_videocard\"\n",
        "  Driver \"dummy\"\n",
        "  #Option \"ConstantDPI\" \"true\"\n",
        "  #VideoRam 4096000\n",
        "  #VideoRam 256000\n",
        "  VideoRam 192000\n",
        "EndSection\n",
        "\n",
        "Section \"Monitor\"\n",
        "  Identifier \"dummy_monitor\"\n",
        "  HorizSync   5.0 - 1000.0\n",
        "  VertRefresh 5.0 - 200.0\n",
        "  Modeline \"1440x810\"   95.00  1440 1520 1664 1888  810 813 818 841 -hsync +vsync\n",
        "  Modeline \"2880x1620\"  396.25  2880 3096 3408 3936  1620 1623 1628 1679 -hsync +vsync\n",
        "EndSection\n",
        "\n",
        "Section \"Screen\"\n",
        "  Identifier \"dummy_screen\"\n",
        "  Device \"dummy_videocard\"\n",
        "  Monitor \"dummy_monitor\"\n",
        "  DefaultDepth 24\n",
        "  SubSection \"Display\"\n",
        "    Viewport 0 0\n",
        "    Depth 24\n",
        "    #Modes \"2880x1620\"\n",
        "    #Tips: 这是分辨率调小一半(类似DPI增大一倍?)\n",
        "    Modes \"1440x810\"\n",
        "  EndSubSection\n",
        "EndSection\n",
        "\n",
        "Section \"ServerLayout\"\n",
        "  Identifier   \"dummy_layout\"\n",
        "  Screen       \"dummy_screen\"\n",
        "  InputDevice  \"dummy_mouse\"\n",
        "  InputDevice  \"dummy_keyboard\"\n",
        "EndSection\n",
        "\n",
        "#Section \"Module\"\n",
        "#    Load \"glamoregl\" #?\n",
        "#EndSection"
      ]
    },
    {
      "cell_type": "code",
      "execution_count": null,
      "metadata": {
        "id": "aveByA1KZbxX"
      },
      "outputs": [],
      "source": [
        "%%writefile startserver.sh\n",
        "#!/bin/bash\n",
        "\n",
        "#/usr/lib/rustdesk/rustdesk &\n",
        "#xvfb-run xrandr\n",
        "\n",
        "tee hi_rustdesk.sh <<-EOF\n",
        "  #!/bin/bash\n",
        "  #export XDG_SESSION_ID=xxxxxx # 通过错误，使得rustdesk的bug跳过？(新版已经修复)\n",
        "  #export XDG_SESSION_TYPE=x11 # 没用？\n",
        "  #export DISPLAY=:0\n",
        "  #startxfce4 &\n",
        "  #xfwm4 -c off -r  -b off &\n",
        "  eval `dbus-launch --sh-syntax` # ？？\n",
        "  #pulseaudio --daemonize=N --realtime -k\n",
        "  #pulseaudio --daemonize=N --realtime\n",
        "  pulseaudio --daemonize=N --realtime &> pulse_audio.log &\n",
        "  #pulseaudio --daemonize=N --realtime &\n",
        "  #pulseaudio --daemonize=N --realtime &\n",
        "  #sleep 5 #? TODO\n",
        "  pavucontrol&\n",
        "  icewm &\n",
        "  #wmaker &\n",
        "  xterm &\n",
        "  \n",
        "  ./LM_Studio-*.AppImage --no-sandbox &\n",
        "  google-chrome --no-sandbox \"https://youtube.com\" &\n",
        "  #sleep 1 #?\n",
        "  ibus engine pinyin &\n",
        "  #ibus engine pinyin\n",
        "  gnome-terminal &\n",
        "  nautilus &\n",
        "  xrdb -query | grep dpi\n",
        "  \n",
        "  rustdesk &\n",
        "EOF\n",
        "\n",
        "chmod +x hi_rustdesk.sh\n",
        "\n",
        "#killall rustdesk\n",
        "killall  -9 dbus-launch\n",
        "killall  -9 Xorg\n",
        "killall  -9 rustdesk\n",
        "#killall Xvfb\n",
        "killall  -9 Xvfb\n",
        "#killall xfdesktop\n",
        "killall  -9 xfdesktop\n",
        "killall  -9 lm-studio\n",
        "killall  -9 icewm\n",
        "killall  -9 pulseaudio\n",
        "killall  -9 gnome-terminal\n",
        "killall  -9 nautilus\n",
        "\n",
        "#sleep 1 # TODO?\n",
        "#xvfb-run /usr/lib/rustdesk/rustdesk\n",
        "\n",
        "# xvfb-run -s \"-screen 0 2560x1440x24\" ./hi_rustdesk.sh\n",
        "#Tips: if some error like futex related, use this one\n",
        "# export DISPLAY=:44\n",
        "# xvfb-run --server-num 44 -s \"-screen 0 2560x1440x24\" ./hi_rustdesk.sh\n",
        "\n",
        "# /usr/lib/rustdesk/rustdesk --server &\n",
        "\n",
        "#this does not work\n",
        "#rustdesk_config_path=~/.config/rustdesk/RustDesk_local.toml\n",
        "#[ ! -f $rustdesk_config_path ]&&tee $rustdesk_config_path <<EOF\n",
        "#[options]\n",
        "#allow-remote-config-modification = Y\n",
        "#EOF\n",
        "\n",
        "Xorg -config xorg-wip.conf -noreset +extension GLX +extension RANDR +extension RENDER :1 &\n",
        "#sleep 1 #?\n",
        "export DISPLAY=:1\n",
        "\n",
        "./hi_rustdesk.sh &\n",
        "\n",
        "#this does not work\n",
        "#rustdesk_config_path=~/.config/rustdesk/RustDesk2.toml\n",
        "#grep -q \"allow-remote-config-modification = Y\" $rustdesk_config_path || echo \"allow-remote-config-modification = Y\" >> $rustdesk_config_path\n",
        "\n",
        "#https://github.com/rustdesk/rustdesk/blob/e7f0f0ff8d0478cabe4b9d374025936cbe206584/src/core_main.rs#L356C31-L356C39\n",
        "\n",
        "tmp_pwd=$(uuid)\n",
        "\n",
        "until /usr/lib/rustdesk/rustdesk --password $tmp_pwd &>/dev/null ; do\n",
        "  echo \"Rustdesk 启动失败，正在重试...\"\n",
        "  sleep 1\n",
        "done\n",
        "echo \"id: $(/usr/lib/rustdesk/rustdesk --get-id)\";\n",
        "echo \"pwd: $tmp_pwd\"\n",
        "\n",
        "rustdesk --option allow-remote-config-modification Y\n",
        "rustdesk --option allow-remote-config-modification\n"
      ]
    },
    {
      "cell_type": "code",
      "execution_count": null,
      "metadata": {
        "id": "bfl9KYAi74KZ"
      },
      "outputs": [],
      "source": [
        "%%bash\n",
        "\n",
        "#Tips: 目测这些都不生效, 修正后删除 \"exit 0\"\n",
        "exit 0\n",
        "\n",
        "[[ -d ~/.icewm ]] || mkdir ~/.icewm\n",
        "tee ~/.icewm/preferences << EOF\n",
        "Xft.dpi: 192\n",
        "ToolTipFontName=\"-*-sans-medium-r-*-*-*-120-*-*-*-*-*-*\"\n",
        "StatusFontName=\"-*-sans-bold-r-*-*-*-120-*-*-*-*-*-*\"\n",
        "MenuFontName=\"-*-sans-bold-r-*-*-*-120-*-*-*-*-*-*\"\n",
        "ActiveTaskBarFontName=\"-*-sans-bold-r-*-*-*-120-*-*-*-*-*-*\"\n",
        "NormalTaskBarFontName=\"-*-sans-medium-r-*-*-*-120-*-*-*-*-*-*\"\n",
        "ListBoxFontName=\"-*-sans-medium-r-*-*-*-120-*-*-*-*-*-*\"\n",
        "EOF\n",
        "\n",
        "tee ~/.Xresources <<EOF\n",
        "Xft.dpi: 192\n",
        "EOF\n"
      ]
    },
    {
      "cell_type": "markdown",
      "metadata": {},
      "source": [
        "## 7. Locate your server if needed"
      ]
    },
    {
      "cell_type": "code",
      "execution_count": null,
      "metadata": {},
      "outputs": [],
      "source": [
        "%%bash\n",
        "!curl -s https://ipinfo.io | grep '\"country\"' | awk -F ': ' '{print $2}' | tr -d '\",'\n",
        "!curl -s http://ip-api.com/json | jq -r '.country'"
      ]
    },
    {
      "cell_type": "markdown",
      "metadata": {},
      "source": [
        "# [主要步骤] 启动&连接\n",
        "\n",
        "## 1. 启动\n"
      ]
    },
    {
      "cell_type": "code",
      "execution_count": null,
      "metadata": {},
      "outputs": [],
      "source": [
        "#TBD\n",
        "!chmod +x ./startserver.sh\n",
        "import subprocess\n",
        "#subprocess.run(['./startserver.sh'])\n",
        "#print(subprocess.run([\"./startserver.sh\"], capture_output=True).stdout.decode().splitlines())\n",
        "for line in subprocess.run([\"./startserver.sh\"], capture_output=True).stdout.decode().splitlines():\n",
        "  print(line)\n",
        "!curl -s https://ipinfo.io | grep '\"country\"' | awk -F ': ' '{print $2}' | tr -d '\",'\n",
        "!curl -s http://ip-api.com/json | jq -r '.country'"
      ]
    },
    {
      "cell_type": "markdown",
      "metadata": {},
      "source": [
        "\n",
        "## 2. 连接\n",
        "Connect from Rustdesk and See the magic"
      ]
    },
    {
      "cell_type": "markdown",
      "metadata": {},
      "source": [
        "# [写在后面] x11docker do all the magic?\n",
        "\n",
        "后面发现了x11docker项目，感觉有很多值得借鉴的地方，包括技术方案和思路"
      ]
    },
    {
      "cell_type": "markdown",
      "metadata": {},
      "source": [
        "# [写在后面] 技术调研参考"
      ]
    },
    {
      "cell_type": "markdown",
      "metadata": {
        "id": "1B6xkXQpEpqT"
      },
      "source": [
        "## 1. 命令行检索rustdesk访问信息"
      ]
    },
    {
      "cell_type": "code",
      "execution_count": null,
      "metadata": {
        "id": "vfs6_jwvuYaC"
      },
      "outputs": [],
      "source": [
        "%%bash\n",
        "/usr/lib/rustdesk/rustdesk --get-id\n",
        "tmp_pwd=$(uuid)\n",
        "/usr/lib/rustdesk/rustdesk --password $tmp_pwd\n",
        "echo $tmp_pwd\n",
        "#https://github.com/rustdesk/rustdesk/blob/e7f0f0ff8d0478cabe4b9d374025936cbe206584/src/core_main.rs#L356C31-L356C39\n",
        "#https://rustdesk.com/docs/en/self-host/client-configuration/advanced-settings/\n",
        "rustdesk --option allow-remote-config-modification Y\n",
        "rustdesk --option enable-file-copy-paste Y # just windows works?\n",
        "rustdesk --option allow-linux-headless Y # need set for server?\n",
        "#rustdesk --option audio-input = 'Microphone (Display Audio)'\n",
        "rustdesk --option verification-method = 'use-permanent-password'\n",
        "rustdesk --option verification-method\n"
      ]
    },
    {
      "cell_type": "markdown",
      "metadata": {},
      "source": [
        "## 2. 检查x-window-manager"
      ]
    },
    {
      "cell_type": "code",
      "execution_count": null,
      "metadata": {
        "id": "4zKC-MasLEol"
      },
      "outputs": [],
      "source": [
        "%%bash\n",
        "ls /etc/alternatives/ | grep ^x\n",
        "#x-session-manager\n",
        "#x-terminal-emulator\n",
        "#x-window-manager\n",
        "sudo update-alternatives --list x-window-manager"
      ]
    },
    {
      "cell_type": "markdown",
      "metadata": {
        "id": "dFa7PSfqIf6_"
      },
      "source": [
        "## 3. rustdesk headless 实现\n",
        "\n",
        "https://github.com/rustdesk/rustdesk/pull/3902\n",
        "\n",
        "https://github.com/rustdesk/rustdesk/pull/3902#issuecomment-1937900476\n",
        "\n",
        "\"--service\" vs \"--server\" # we use --server"
      ]
    },
    {
      "cell_type": "markdown",
      "metadata": {
        "id": "_lEPdx7DEuTK"
      },
      "source": [
        "## 4. 配置ibus\n",
        "https://gist.github.com/adnan360/11aed4d206004f32153d83c2d475eb95"
      ]
    },
    {
      "cell_type": "code",
      "execution_count": null,
      "metadata": {
        "id": "K2nGiVzIE1YP"
      },
      "outputs": [],
      "source": [
        "%%bash\n",
        "#https://gist.github.com/adnan360/11aed4d206004f32153d83c2d475eb9\n",
        "#ibus engine xkb:us::eng\n",
        "#ibus engine pinyin\n"
      ]
    },
    {
      "cell_type": "markdown",
      "metadata": {},
      "source": [
        "## 5. xvfb-run & wmaker 尝试"
      ]
    },
    {
      "cell_type": "code",
      "execution_count": null,
      "metadata": {
        "id": "5P-f05sbhStM"
      },
      "outputs": [],
      "source": [
        "%%bash\n",
        "exit 0\n",
        "# ref: https://github.com/rustdesk/rustdesk/wiki/Headless-Linux-Support\n",
        "# cat /root/.config/rustdesk/*\n",
        "##xdg-desktop-portal\n",
        "\n",
        "tee hi_rustdesk.sh <<EOF\n",
        "export XDG_SESSION_ID=xxxxxx # 通过错误，使得rustdesk的bug跳过？(新版已经修复)\n",
        "export XDG_SESSION_TYPE=x11 # 没用？\n",
        "export DISPLAY=:0\n",
        "EOF\n",
        "\n",
        "chmod +x hi_rustdesk.sh\n",
        "\n",
        "# echo . $PWD/hi_rustdesk.sh >>  ~/.bashrc\n",
        "# echo . $PWD/hi_rustdesk.sh >> /etc/profile\n",
        "\n",
        "# Xvfb $DISPLAY &\n",
        "\n",
        "# /usr/lib/rustdesk/rustdesk --service\n",
        "# /usr/lib/rustdesk/rustdesk --get-id\n",
        "# /usr/lib/rustdesk/rustdesk --password killcolab\n",
        "\n",
        "killall wmaker # xface?\n",
        "killall rustdesk\n",
        "killall Xvfb\n",
        "\n",
        ". $PWD/hi_rustdesk.sh\n",
        "# --begin-- input:\n",
        "# x=1920\n",
        "# y=1080\n",
        "# refresh=60\n",
        "\n",
        "x=2560\n",
        "y=1440\n",
        "refresh=60\n",
        "\n",
        "# --end-- input:\n",
        "\n",
        "# Xvfb :1 -screen 0 1024x768x32 &\n",
        "# Xvfb $DISPLAY -screen 0 1024x768x24\n",
        "Xvfb $DISPLAY -screen 0 ${x}x${y}x24+8 &\n",
        "\n",
        "# wmaker 试水\n",
        "wmaker &\n",
        "# dbus-run-session gnome-session\n",
        "/usr/lib/rustdesk/rustdesk &\n",
        "\n",
        "/usr/lib/rustdesk/rustdesk --get-id\n",
        "\n",
        "sleep 2\n",
        "/usr/lib/rustdesk/rustdesk --password killcolab\n",
        "xwd -root -silent | gm convert xwd:- output.png\n",
        "\n",
        "# 屏幕调整\n",
        "# tips: xvfb 屏幕叫screen\n",
        "screen_name=screen\n",
        "mode_line=$(cvt $x $y $refresh | grep \"Modeline\" | cut -d' ' -f2-)\n",
        "mode_name=$(echo $mode_line | cut -d' ' -f1)\n",
        "xrandr --newmode $mode_line\n",
        "xrandr --addmode $screen_name $mode_name\n",
        "xrandr --output $screen_name --mode $mode_name\n",
        "\n",
        "# gnome 试水\n",
        "# 启动 D-Bus session (不工作 TBD)\n",
        "eval `dbus-launch --sh-syntax --exit-with-session`\n",
        "eval `ssh-agent -s`\n",
        "ssh-add\n",
        "gnome-session\n",
        "\n",
        "# xdummy 试水(rustdesk 官方配置 TBD)\n",
        "\n",
        "# lm studio\n",
        "#./LM_Studio-0.2.20.AppImage  --no-sandbox\n",
        "\n",
        "# git clone https://github.com/rustdesk/rustdesk.git\n",
        "# Unsupported display server type \"\", x11 or wayland expected\n",
        "# rustdesk/rustdesk/src/server/connection.rs:1181\n",
        "# rustdesk/rustdesk/libs/hbb_common/src/platform/linux.rs:get_display_server\n",
        "# rustdesk/rustdesk/libs/hbb_common/src/platform/linux.rs:get_display_server_of_session\n",
        "# rustdesk/rustdesk/src/platform/linux.rs"
      ]
    },
    {
      "cell_type": "markdown",
      "metadata": {
        "id": "eZbqp7m43dgp"
      },
      "source": [
        "### 7. xvfb-run的问题解决\n",
        "\n",
        "https://github.com/electron/electron/issues/24211\n",
        "\n",
        "Error:\n",
        "The futex facility returned an unexpected error code.\n",
        "\n",
        "Workaround:\n",
        "```bash\n",
        "#DISPLAY=:44 xvfb-run --server-num 44\n",
        "```\n"
      ]
    },
    {
      "cell_type": "markdown",
      "metadata": {
        "id": "hrf2ujcUvs59"
      },
      "source": [
        "## 8. loginctl 验证"
      ]
    },
    {
      "cell_type": "code",
      "execution_count": null,
      "metadata": {
        "id": "NHUyjq2Bujpy"
      },
      "outputs": [],
      "source": [
        "%%bash\n",
        "exit 0\n",
        "loginctl show-session -p Type $(cat /proc/self/sessionid)\n",
        "echo $?"
      ]
    },
    {
      "cell_type": "markdown",
      "metadata": {
        "id": "lMAgfNeiXfOz"
      },
      "source": [
        "## 9. rustdesk 远程键盘不工作（重启好了）\n",
        "Ref:\n",
        "https://github.com/jordansissel/xdotool/issues/156\n",
        "\n"
      ]
    },
    {
      "cell_type": "code",
      "execution_count": null,
      "metadata": {
        "id": "OXlkaT0KYtkP"
      },
      "outputs": [],
      "source": [
        "%%bash\n",
        "exit 0\n",
        "xdotool hello world\n",
        "xdotool type \"hello world\"\n",
        "xdotool getactivewindow type hello\n",
        "\n",
        "dpkg-reconfigure keyboard-configuration"
      ]
    },
    {
      "cell_type": "markdown",
      "metadata": {},
      "source": [
        "# 参考\n",
        "\n",
        "https://xpra.org/xorg.conf\n",
        "\n",
        "https://ice-wm.org/\n",
        "\n",
        "https://github.com/Xpra-org/xpra/blob/master/docs/Usage/Xdummy.md\n",
        "\n",
        "https://github.com/rustdesk/rustdesk/blob/master/res/startwm.sh\n",
        "\n",
        "https://github.com/rustdesk/rustdesk/pull/3852/files#diff-26550121d7f5c5179c46ff523f3b81787d25f4ab59724e5a0b1b98572b15c87b\n",
        "\n",
        "https://github.com/rustdesk/rustdesk/blob/master/res/xorg.conf\n",
        "\n",
        "https://github.com/congzhangzh/daily-scripts-4-us/blob/main/enable_headness_intel_igpu_4_nomachine.sh\n",
        "\n",
        "https://github.com/rustdesk/rustdesk/blob/17d18f1dd82ba2e02a5cf540fc935e7651c61554/src/platform/linux_desktop_manager.rs#L662\n",
        "\n",
        "https://github.com/Xpra-org/xf86-video-dummy\n",
        "\n",
        "https://gitlab.xfce.org/xfce/xfwm4/-/issues/432"
      ]
    }
  ],
  "metadata": {
    "accelerator": "GPU",
    "colab": {
      "gpuType": "L4",
      "machine_shape": "hm",
      "private_outputs": true,
      "provenance": []
    },
    "kernelspec": {
      "display_name": "Python 3",
      "name": "python3"
    },
    "language_info": {
      "name": "python"
    }
  },
  "nbformat": 4,
  "nbformat_minor": 0
}
